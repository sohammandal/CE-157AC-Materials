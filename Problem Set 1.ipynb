{
 "cells": [
  {
   "attachments": {},
   "cell_type": "markdown",
   "metadata": {},
   "source": [
    "# CE 157AC Spring 2018\n",
    "## Assignment: Problem Set #1\n",
    "\n",
    "**Due:**  Friday, March 2, 2018 at 11:59 pm\n",
    "<br>\n",
    "*Submit via bCourses*\n",
    "<br>\n",
    "\n",
    "---"
   ]
  },
  {
   "attachments": {},
   "cell_type": "markdown",
   "metadata": {},
   "source": [
    "### Assignment Description\n",
    "\n",
    "1. **Create a map of pollution in the San Francisco Bay Area**\n",
    "    - Go to the Environmental Protection Agency’s EJView website: https://ejscreen.epa.gov/mapper/\n",
    "    - Enter a city in the Bay Area (e.g., Berkeley, CA), click search, and wait for the map to load. If you have trouble getting a map to load, try using a different web browser.\n",
    "    - Under “Add Maps” choose the following options: \n",
    "        - Additional Maps > Sites reporting to EPA\n",
    "        - Then select “Toxic releases”. *These are based off of TRI (Toxic Release Inventory) sites.*\n",
    "        - More Demographics > 2011-2015 ACS > Population/Minority Population/Quantile. *This is the percent of the population that is not Non-Hispanic White.*\n",
    "\n",
    "    - Use the arrows to zoom and pan across the areas the way you would with Google Maps. You can also increase the level of transparency of the demographic information for more clarity.\n",
    "\n",
    "       a)\tWhat do you notice about the distribution of facilities emitting toxins in relation to community demographic makeup in the SF Bay Area? Notice that the markers for TRI facilities will symbolize more than one facility when you zoom out (click on them to see how many). [2-3 sentences]\n",
    "\n",
    "        b)\tUnder “Add Maps”, explore some of the other options. Click on the (i) next to each option to get more information about the data source. Use the print tool (or screenshots) to create **two maps** that together tell a story about pollution and community characteristics that you find particularly interesting or compelling. Be sure to **title your maps so that we know what you have mapped**, because the legend created by the website is not always clear. To hand these in, you can take a screen shot and copy the maps into another document (see http://www.take-a-screenshot.org/ for a how to). What pattern do you observe between the variables you’ve chosen to map? What do you find interesting about the pattern? [2 maps and 2-3 sentences of explanation for each]\n",
    "<br>\n",
    "<br>\n",
    "2. **Calculate average toxic releases by poverty status**\n",
    "\n",
    "    The data for this problem has been provided on the next page. It is also posted to bCourses as an Excel spreadsheet. You should do your calculations in a spreadsheet program (i.e. MS Excel). The data come from the EPA’s Toxic Release Inventory, which collects information on the emissions to air, water and land of major industrial facilities. The EPA has multiplied the pounds emitted by a toxicity factor that is higher for more toxic chemicals. The number of people living in poverty comes from the 2010 Census. \n",
    "    \n",
    "    a)\tCalculate the proportion of poor and non-poor residents that have no toxic chemicals being emitted near their zip code. Apply the following formula one at a time for each group:<br><br>\n",
    "\n",
    "    $Proportion \\:with \\:zero \\:emissions = \\frac{number \\:of \\:people \\:with \\:zero \\:emissions}{total \\:number\\:of\\:people}$\n",
    "      <br><br>\n",
    "      *Proportion with zero emissions, poor: <br>Proportion with zero emissions, non-poor:*\n",
    "\n",
    "    b)  What is the average level of toxicity-weighted pounds for a Contra Costa resident? Apply the following formula for the poor and non-poor groups separately, where i refers to the zip code and N is the number of zip codes with emissions:<br><br>\n",
    "    $Average = \\frac{1}{total \\:number \\:of \\:people} \\sum_{i=0}^{i=N}(pounds_{i} \\times people_{i}) = \\frac{1}{total \\:number \\:of \\:people} \\times ((pounds_{1} \\times people_{1}) \\:+ \\:(pounds_{2} \\times people_{2}) \\:+ \\:...etc.)$\n",
    "    <br><br>\n",
    "    *Average toxicity-weighted pounds, poor: <br>\n",
    "    Average toxicity-weighted pounds, non-poor:*\n",
    "\n",
    "    c)\tLook at the documentation for the TRI dataset: \n",
    "    http://www2.epa.gov/toxics-release-inventory-tri-program/basics-tri-reporting\n",
    "    Describe one limitation of this dataset that might make it inaccurate or incomplete in terms of capturing the true number of toxic chemicals emitted in a neighborhood. [1-2 sentences]\n",
    "\n",
    "    *Note: If you want the option of partial-credit (in case you make calculation errors) you should include a clean, simple pdf of your data in the same file as your assignment*\n",
    "    \n",
    "---"
   ]
  },
  {
   "cell_type": "code",
   "execution_count": 6,
   "metadata": {},
   "outputs": [],
   "source": [
    "from datascience import *"
   ]
  },
  {
   "cell_type": "code",
   "execution_count": 9,
   "metadata": {},
   "outputs": [
    {
     "data": {
      "text/html": [
       "<table border=\"1\" class=\"dataframe\">\n",
       "    <thead>\n",
       "        <tr>\n",
       "            <th>Zip code</th> <th>Toxicity-weighted pounds of chemicals released to air or water from all TRI facilities within a one kilometer radius of the zip code</th> <th>People below the poverty line</th> <th>People above the poverty line</th>\n",
       "        </tr>\n",
       "    </thead>\n",
       "    <tbody>\n",
       "        <tr>\n",
       "            <td>94509     </td> <td>1,413,711                                                                                                                           </td> <td>23,415                       </td> <td>39,024                       </td>\n",
       "        </tr>\n",
       "    </tbody>\n",
       "        <tr>\n",
       "            <td>94518     </td> <td>56,366                                                                                                                              </td> <td>5,864                        </td> <td>20,914                       </td>\n",
       "        </tr>\n",
       "    </tbody>\n",
       "        <tr>\n",
       "            <td>94520     </td> <td>59,481                                                                                                                              </td> <td>16,520                       </td> <td>20,688                       </td>\n",
       "        </tr>\n",
       "    </tbody>\n",
       "        <tr>\n",
       "            <td>94525     </td> <td>21,304,051                                                                                                                          </td> <td>691                          </td> <td>2,436                        </td>\n",
       "        </tr>\n",
       "    </tbody>\n",
       "        <tr>\n",
       "            <td>94547     </td> <td>501,841                                                                                                                             </td> <td>2,987                        </td> <td>21,105                       </td>\n",
       "        </tr>\n",
       "    </tbody>\n",
       "        <tr>\n",
       "            <td>94553     </td> <td>246,758,929                                                                                                                         </td> <td>10,213                       </td> <td>36,852                       </td>\n",
       "        </tr>\n",
       "    </tbody>\n",
       "        <tr>\n",
       "            <td>94561     </td> <td>94,268                                                                                                                              </td> <td>9,640                        </td> <td>26,875                       </td>\n",
       "        </tr>\n",
       "    </tbody>\n",
       "        <tr>\n",
       "            <td>94565     </td> <td>16,758,112                                                                                                                          </td> <td>34,872                       </td> <td>49,769                       </td>\n",
       "        </tr>\n",
       "    </tbody>\n",
       "        <tr>\n",
       "            <td>94572     </td> <td>175,500,572                                                                                                                         </td> <td>2,614                        </td> <td>6,070                        </td>\n",
       "        </tr>\n",
       "    </tbody>\n",
       "        <tr>\n",
       "            <td>94801     </td> <td>121,104,930                                                                                                                         </td> <td>15,109                       </td> <td>14,286                       </td>\n",
       "        </tr>\n",
       "    </tbody>\n",
       "        <tr>\n",
       "            <td>94804     </td> <td>302,805                                                                                                                             </td> <td>15,424                       </td> <td>23,135                       </td>\n",
       "        </tr>\n",
       "    </tbody>\n",
       "        <tr>\n",
       "            <td>all others</td> <td>0                                                                                                                                   </td> <td>103,370                      </td> <td>540,406                      </td>\n",
       "        </tr>\n",
       "    </tbody>\n",
       "</table>"
      ],
      "text/plain": [
       "<IPython.core.display.HTML object>"
      ]
     },
     "metadata": {},
     "output_type": "display_data"
    }
   ],
   "source": [
    "# read in table\n",
    "data = Table.read_table('ce157ac_data.csv')\n",
    "data.show(12)"
   ]
  },
  {
   "cell_type": "code",
   "execution_count": null,
   "metadata": {},
   "outputs": [],
   "source": []
  }
 ],
 "metadata": {
  "kernelspec": {
   "display_name": "Python 3",
   "language": "python",
   "name": "python3"
  },
  "language_info": {
   "codemirror_mode": {
    "name": "ipython",
    "version": 3
   },
   "file_extension": ".py",
   "mimetype": "text/x-python",
   "name": "python",
   "nbconvert_exporter": "python",
   "pygments_lexer": "ipython3",
   "version": "3.6.4"
  }
 },
 "nbformat": 4,
 "nbformat_minor": 2
}
